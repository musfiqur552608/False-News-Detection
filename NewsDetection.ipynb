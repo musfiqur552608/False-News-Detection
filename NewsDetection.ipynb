{
  "nbformat": 4,
  "nbformat_minor": 0,
  "metadata": {
    "colab": {
      "name": "NewsDetection.ipynb",
      "provenance": [],
      "authorship_tag": "ABX9TyPAw0pTuA7VNWN/pjVXLcVS",
      "include_colab_link": true
    },
    "kernelspec": {
      "name": "python3",
      "display_name": "Python 3"
    },
    "language_info": {
      "name": "python"
    }
  },
  "cells": [
    {
      "cell_type": "markdown",
      "metadata": {
        "id": "view-in-github",
        "colab_type": "text"
      },
      "source": [
        "<a href=\"https://colab.research.google.com/github/musfiqur552608/False-News-Detection/blob/master/NewsDetection.ipynb\" target=\"_parent\"><img src=\"https://colab.research.google.com/assets/colab-badge.svg\" alt=\"Open In Colab\"/></a>"
      ]
    },
    {
      "cell_type": "markdown",
      "metadata": {
        "id": "9iLYiEvbVttr"
      },
      "source": [
        "## Connection to drive"
      ]
    },
    {
      "cell_type": "code",
      "metadata": {
        "colab": {
          "base_uri": "https://localhost:8080/"
        },
        "id": "xdqByQgyU8jw",
        "outputId": "cac28a39-a94d-4bd0-892a-a9b84993cdb0"
      },
      "source": [
        "from google.colab import drive\n",
        "drive.mount('/content/gdrive')\n"
      ],
      "execution_count": null,
      "outputs": [
        {
          "output_type": "stream",
          "text": [
            "Mounted at /content/gdrive\n"
          ],
          "name": "stdout"
        }
      ]
    },
    {
      "cell_type": "code",
      "metadata": {
        "id": "U8SXPTlgVsFU"
      },
      "source": [
        "import pandas as pd\n",
        "df = pd.read_csv('gdrive/My Drive/Colab Notebooks/newspredict.csv',encoding='utf-8')"
      ],
      "execution_count": null,
      "outputs": []
    },
    {
      "cell_type": "markdown",
      "metadata": {
        "id": "AlE4X7b6Wg-7"
      },
      "source": [
        "## Check Data(Pre Process)"
      ]
    },
    {
      "cell_type": "code",
      "metadata": {
        "colab": {
          "base_uri": "https://localhost:8080/",
          "height": 359
        },
        "id": "C7oMMzKYV_4T",
        "outputId": "1bacd6f8-42b1-4df6-f215-9456445d6862"
      },
      "source": [
        "df.head(10)"
      ],
      "execution_count": null,
      "outputs": [
        {
          "output_type": "execute_result",
          "data": {
            "text/html": [
              "<div>\n",
              "<style scoped>\n",
              "    .dataframe tbody tr th:only-of-type {\n",
              "        vertical-align: middle;\n",
              "    }\n",
              "\n",
              "    .dataframe tbody tr th {\n",
              "        vertical-align: top;\n",
              "    }\n",
              "\n",
              "    .dataframe thead th {\n",
              "        text-align: right;\n",
              "    }\n",
              "</style>\n",
              "<table border=\"1\" class=\"dataframe\">\n",
              "  <thead>\n",
              "    <tr style=\"text-align: right;\">\n",
              "      <th></th>\n",
              "      <th>News</th>\n",
              "      <th>Class</th>\n",
              "    </tr>\n",
              "  </thead>\n",
              "  <tbody>\n",
              "    <tr>\n",
              "      <th>0</th>\n",
              "      <td>হ্যাঁ, আমি গোসল করি না, এটাই আমি' : গোসল না কর...</td>\n",
              "      <td>0</td>\n",
              "    </tr>\n",
              "    <tr>\n",
              "      <th>1</th>\n",
              "      <td>হোম টিউটর রেখে আপনার সন্তানকে যেভাবে উচ্চশিক্ষ...</td>\n",
              "      <td>0</td>\n",
              "    </tr>\n",
              "    <tr>\n",
              "      <th>2</th>\n",
              "      <td>হোটেলের রুমে তরুণীর সঙ্গে মারামারি করেছে বিখ্য...</td>\n",
              "      <td>0</td>\n",
              "    </tr>\n",
              "    <tr>\n",
              "      <th>3</th>\n",
              "      <td>হেলমেট পরেই বাইকভ্রমণের ফটোসেশন করার ৭টি অভিনব...</td>\n",
              "      <td>0</td>\n",
              "    </tr>\n",
              "    <tr>\n",
              "      <th>4</th>\n",
              "      <td>হুমায়ূন আহমেদের হিমু যদি মনোনয়নপত্র পূরণ করতেন</td>\n",
              "      <td>0</td>\n",
              "    </tr>\n",
              "    <tr>\n",
              "      <th>5</th>\n",
              "      <td>হুন্ডা চালালে কি সত্যিই বিচি নষ্ট হয় ?</td>\n",
              "      <td>0</td>\n",
              "    </tr>\n",
              "    <tr>\n",
              "      <th>6</th>\n",
              "      <td>হুড়োহুড়িতে বুড়ো-বুড়ি হওয়ার হুজুগে নিজেরই বিপদ...</td>\n",
              "      <td>0</td>\n",
              "    </tr>\n",
              "    <tr>\n",
              "      <th>7</th>\n",
              "      <td>হু হু! আমার এমপি হওয়ার সম্ভাবনা প্রবল</td>\n",
              "      <td>0</td>\n",
              "    </tr>\n",
              "    <tr>\n",
              "      <th>8</th>\n",
              "      <td>হিরো আলমের সাথে পাল্লা দিয়ে মনোনয়নপত্র কিনছে...</td>\n",
              "      <td>0</td>\n",
              "    </tr>\n",
              "    <tr>\n",
              "      <th>9</th>\n",
              "      <td>হিরো আলম, ডিপজল ও অন্যান্য অভিনেতারা সংসদে গেল...</td>\n",
              "      <td>0</td>\n",
              "    </tr>\n",
              "  </tbody>\n",
              "</table>\n",
              "</div>"
            ],
            "text/plain": [
              "                                                News  Class\n",
              "0  হ্যাঁ, আমি গোসল করি না, এটাই আমি' : গোসল না কর...      0\n",
              "1  হোম টিউটর রেখে আপনার সন্তানকে যেভাবে উচ্চশিক্ষ...      0\n",
              "2  হোটেলের রুমে তরুণীর সঙ্গে মারামারি করেছে বিখ্য...      0\n",
              "3  হেলমেট পরেই বাইকভ্রমণের ফটোসেশন করার ৭টি অভিনব...      0\n",
              "4     হুমায়ূন আহমেদের হিমু যদি মনোনয়নপত্র পূরণ করতেন      0\n",
              "5            হুন্ডা চালালে কি সত্যিই বিচি নষ্ট হয় ?      0\n",
              "6  হুড়োহুড়িতে বুড়ো-বুড়ি হওয়ার হুজুগে নিজেরই বিপদ...      0\n",
              "7              হু হু! আমার এমপি হওয়ার সম্ভাবনা প্রবল      0\n",
              "8  হিরো আলমের সাথে পাল্লা দিয়ে মনোনয়নপত্র কিনছে...      0\n",
              "9  হিরো আলম, ডিপজল ও অন্যান্য অভিনেতারা সংসদে গেল...      0"
            ]
          },
          "metadata": {
            "tags": []
          },
          "execution_count": 3
        }
      ]
    },
    {
      "cell_type": "code",
      "metadata": {
        "colab": {
          "base_uri": "https://localhost:8080/"
        },
        "id": "bbCLtp60WUqE",
        "outputId": "f887244f-0406-4cb0-8485-c7dad4aabe5c"
      },
      "source": [
        "df.columns"
      ],
      "execution_count": null,
      "outputs": [
        {
          "output_type": "execute_result",
          "data": {
            "text/plain": [
              "Index(['News', 'Class'], dtype='object')"
            ]
          },
          "metadata": {
            "tags": []
          },
          "execution_count": 4
        }
      ]
    },
    {
      "cell_type": "code",
      "metadata": {
        "colab": {
          "base_uri": "https://localhost:8080/"
        },
        "id": "XF18xStSWb8L",
        "outputId": "ce80b27c-06e2-4c89-ea06-378b20eeb475"
      },
      "source": [
        "df.dtypes"
      ],
      "execution_count": null,
      "outputs": [
        {
          "output_type": "execute_result",
          "data": {
            "text/plain": [
              "News     object\n",
              "Class     int64\n",
              "dtype: object"
            ]
          },
          "metadata": {
            "tags": []
          },
          "execution_count": 5
        }
      ]
    },
    {
      "cell_type": "code",
      "metadata": {
        "colab": {
          "base_uri": "https://localhost:8080/"
        },
        "id": "so7sN3zHWgGD",
        "outputId": "28da6374-ea97-4900-c114-36f73e86a7b5"
      },
      "source": [
        "df.shape"
      ],
      "execution_count": null,
      "outputs": [
        {
          "output_type": "execute_result",
          "data": {
            "text/plain": [
              "(2348, 2)"
            ]
          },
          "metadata": {
            "tags": []
          },
          "execution_count": 6
        }
      ]
    },
    {
      "cell_type": "code",
      "metadata": {
        "colab": {
          "base_uri": "https://localhost:8080/"
        },
        "id": "_YaWf-i8WpXL",
        "outputId": "7e470977-28d7-42e5-c0ef-7117b758c55b"
      },
      "source": [
        "df['News'].value_counts()"
      ],
      "execution_count": null,
      "outputs": [
        {
          "output_type": "execute_result",
          "data": {
            "text/plain": [
              "বর্জ্যবাহী জাহাজ এমটি প্রডিউসারকে দেওয়া আমদানির অনুমতি বেআইনি: হাইকোর্ট                                 1\n",
              "জানিয়ে দেওয়া হলো কলকাতা টেস্ট ঘিরে প্রধানমন্ত্রী শেখ হাসিনার সূচি                                       1\n",
              "লক্ষ্মীপুরে নিয়মবহির্ভূতভাবে মজুত করায় ৪২ বস্তা পেঁয়াজ জব্দ                                             1\n",
              "Zee বাংলা বন্ধ থাকায় লুকিয়ে পাশের বাড়ির ড্রামা দেখতে গিয়ে হাতেনাতে ধরা খেলেন এক আন্টি - Bengal Beats    1\n",
              "দেশের সবচেয়ে বড় লিঙ্গ কুমিল্লার জয়নালের !                                                               1\n",
              "                                                                                                       ..\n",
              "‘চুমু দিয়ে নারীদের বিভিন্ন রোগ সারাতে পারেন চুমুবাবা!’                                                 1\n",
              "রাজধানীতে দিনভর বৃষ্টি                                                                                  1\n",
              "পারসোনা ও ফারজানা শাকিল'স থেকে মেয়াদোত্তীর্ণ আটা-ময়দা-সুজি উদ্ধার!                                     1\n",
              "লাশের সারিতে স্ত্রীকে আর হাসপাতালে পেলেন মেয়েকে                                                         1\n",
              "সেফাত উল্লাহ এখন কোথায় ?                                                                               1\n",
              "Name: News, Length: 2348, dtype: int64"
            ]
          },
          "metadata": {
            "tags": []
          },
          "execution_count": 7
        }
      ]
    },
    {
      "cell_type": "code",
      "metadata": {
        "colab": {
          "base_uri": "https://localhost:8080/"
        },
        "id": "B4XU3MiOWsEa",
        "outputId": "6e7bd02f-18d6-4f9f-c6e7-a01f98aae507"
      },
      "source": [
        "df.isnull().sum()"
      ],
      "execution_count": null,
      "outputs": [
        {
          "output_type": "execute_result",
          "data": {
            "text/plain": [
              "News     0\n",
              "Class    0\n",
              "dtype: int64"
            ]
          },
          "metadata": {
            "tags": []
          },
          "execution_count": 8
        }
      ]
    },
    {
      "cell_type": "code",
      "metadata": {
        "colab": {
          "base_uri": "https://localhost:8080/",
          "height": 419
        },
        "id": "sCEc02LYW1Oj",
        "outputId": "301d7676-8e38-4eec-b618-17f90149c4f3"
      },
      "source": [
        "df.dropna()"
      ],
      "execution_count": null,
      "outputs": [
        {
          "output_type": "execute_result",
          "data": {
            "text/html": [
              "<div>\n",
              "<style scoped>\n",
              "    .dataframe tbody tr th:only-of-type {\n",
              "        vertical-align: middle;\n",
              "    }\n",
              "\n",
              "    .dataframe tbody tr th {\n",
              "        vertical-align: top;\n",
              "    }\n",
              "\n",
              "    .dataframe thead th {\n",
              "        text-align: right;\n",
              "    }\n",
              "</style>\n",
              "<table border=\"1\" class=\"dataframe\">\n",
              "  <thead>\n",
              "    <tr style=\"text-align: right;\">\n",
              "      <th></th>\n",
              "      <th>News</th>\n",
              "      <th>Class</th>\n",
              "    </tr>\n",
              "  </thead>\n",
              "  <tbody>\n",
              "    <tr>\n",
              "      <th>0</th>\n",
              "      <td>হ্যাঁ, আমি গোসল করি না, এটাই আমি' : গোসল না কর...</td>\n",
              "      <td>0</td>\n",
              "    </tr>\n",
              "    <tr>\n",
              "      <th>1</th>\n",
              "      <td>হোম টিউটর রেখে আপনার সন্তানকে যেভাবে উচ্চশিক্ষ...</td>\n",
              "      <td>0</td>\n",
              "    </tr>\n",
              "    <tr>\n",
              "      <th>2</th>\n",
              "      <td>হোটেলের রুমে তরুণীর সঙ্গে মারামারি করেছে বিখ্য...</td>\n",
              "      <td>0</td>\n",
              "    </tr>\n",
              "    <tr>\n",
              "      <th>3</th>\n",
              "      <td>হেলমেট পরেই বাইকভ্রমণের ফটোসেশন করার ৭টি অভিনব...</td>\n",
              "      <td>0</td>\n",
              "    </tr>\n",
              "    <tr>\n",
              "      <th>4</th>\n",
              "      <td>হুমায়ূন আহমেদের হিমু যদি মনোনয়নপত্র পূরণ করতেন</td>\n",
              "      <td>0</td>\n",
              "    </tr>\n",
              "    <tr>\n",
              "      <th>...</th>\n",
              "      <td>...</td>\n",
              "      <td>...</td>\n",
              "    </tr>\n",
              "    <tr>\n",
              "      <th>2343</th>\n",
              "      <td>মির্জাগঞ্জে ঘর চাপা পড়ে নিহত ১</td>\n",
              "      <td>1</td>\n",
              "    </tr>\n",
              "    <tr>\n",
              "      <th>2344</th>\n",
              "      <td>আশ্রয়কেন্দ্রে ছুটছে মানুষ</td>\n",
              "      <td>1</td>\n",
              "    </tr>\n",
              "    <tr>\n",
              "      <th>2345</th>\n",
              "      <td>আতঙ্কে উপকূলের মানুষ</td>\n",
              "      <td>1</td>\n",
              "    </tr>\n",
              "    <tr>\n",
              "      <th>2346</th>\n",
              "      <td>আজ পবিত্র ঈদে মিলাদুন্নবী (সা.)</td>\n",
              "      <td>1</td>\n",
              "    </tr>\n",
              "    <tr>\n",
              "      <th>2347</th>\n",
              "      <td>ধাক্কায় মাইক্রোবাস উল্টে সিলিন্ডার ফেটে নিহত ৩</td>\n",
              "      <td>1</td>\n",
              "    </tr>\n",
              "  </tbody>\n",
              "</table>\n",
              "<p>2348 rows × 2 columns</p>\n",
              "</div>"
            ],
            "text/plain": [
              "                                                   News  Class\n",
              "0     হ্যাঁ, আমি গোসল করি না, এটাই আমি' : গোসল না কর...      0\n",
              "1     হোম টিউটর রেখে আপনার সন্তানকে যেভাবে উচ্চশিক্ষ...      0\n",
              "2     হোটেলের রুমে তরুণীর সঙ্গে মারামারি করেছে বিখ্য...      0\n",
              "3     হেলমেট পরেই বাইকভ্রমণের ফটোসেশন করার ৭টি অভিনব...      0\n",
              "4        হুমায়ূন আহমেদের হিমু যদি মনোনয়নপত্র পূরণ করতেন      0\n",
              "...                                                 ...    ...\n",
              "2343                     মির্জাগঞ্জে ঘর চাপা পড়ে নিহত ১      1\n",
              "2344                          আশ্রয়কেন্দ্রে ছুটছে মানুষ      1\n",
              "2345                               আতঙ্কে উপকূলের মানুষ      1\n",
              "2346                    আজ পবিত্র ঈদে মিলাদুন্নবী (সা.)      1\n",
              "2347     ধাক্কায় মাইক্রোবাস উল্টে সিলিন্ডার ফেটে নিহত ৩      1\n",
              "\n",
              "[2348 rows x 2 columns]"
            ]
          },
          "metadata": {
            "tags": []
          },
          "execution_count": 9
        }
      ]
    },
    {
      "cell_type": "code",
      "metadata": {
        "colab": {
          "base_uri": "https://localhost:8080/"
        },
        "id": "NTBOEowcW3yb",
        "outputId": "ef461dbc-e912-4159-b0c5-3cecf89745e0"
      },
      "source": [
        "for i in range(5):\n",
        "    print(\"News:\",i+1)\n",
        "    print(\"Text:\",df.News[i])"
      ],
      "execution_count": null,
      "outputs": [
        {
          "output_type": "stream",
          "text": [
            "News: 1\n",
            "Text: হ্যাঁ, আমি গোসল করি না, এটাই আমি' : গোসল না করার মোটিভেশনাল স্পিচ\n",
            "News: 2\n",
            "Text: হোম টিউটর রেখে আপনার সন্তানকে যেভাবে উচ্চশিক্ষিত করে তুলবেন\n",
            "News: 3\n",
            "Text: হোটেলের রুমে তরুণীর সঙ্গে মারামারি করেছে বিখ্যাত ফুটবলার নেইমার! ভিডিও ভাইরাল, জল্পনা তুঙ্গে -\n",
            "News: 4\n",
            "Text: হেলমেট পরেই বাইকভ্রমণের ফটোসেশন করার ৭টি অভিনব পদ্ধতি\n",
            "News: 5\n",
            "Text: হুমায়ূন আহমেদের হিমু যদি মনোনয়নপত্র পূরণ করতেন\n"
          ],
          "name": "stdout"
        }
      ]
    },
    {
      "cell_type": "code",
      "metadata": {
        "id": "P3i2WYMAXIaL"
      },
      "source": [
        "import matplotlib.pyplot as plt\n",
        "import seaborn as sns\n",
        "%matplotlib inline"
      ],
      "execution_count": null,
      "outputs": []
    },
    {
      "cell_type": "code",
      "metadata": {
        "colab": {
          "base_uri": "https://localhost:8080/",
          "height": 282
        },
        "id": "soHl3TluXTW7",
        "outputId": "dfaacdd6-a3bf-4d5f-b11d-9c5f8e7fb1aa"
      },
      "source": [
        "df['Class'].plot(kind='hist')"
      ],
      "execution_count": null,
      "outputs": [
        {
          "output_type": "execute_result",
          "data": {
            "text/plain": [
              "<matplotlib.axes._subplots.AxesSubplot at 0x7fc73792e910>"
            ]
          },
          "metadata": {
            "tags": []
          },
          "execution_count": 12
        },
        {
          "output_type": "display_data",
          "data": {
            "image/png": "[encoded data removed]",
            "text/plain": [
              "<Figure size 432x288 with 1 Axes>"
            ]
          },
          "metadata": {
            "tags": [],
            "needs_background": "light"
          }
        }
      ]
    },
    {
      "cell_type": "code",
      "metadata": {
        "colab": {
          "base_uri": "https://localhost:8080/",
          "height": 359
        },
        "id": "R1I-EFt0XVyL",
        "outputId": "9c9bfee1-2a93-4228-dd76-bf666c05c6b9"
      },
      "source": [
        "\n",
        "df['length'] = df['News'].str.split().apply(len)\n",
        "df.head(10)"
      ],
      "execution_count": null,
      "outputs": [
        {
          "output_type": "execute_result",
          "data": {
            "text/html": [
              "<div>\n",
              "<style scoped>\n",
              "    .dataframe tbody tr th:only-of-type {\n",
              "        vertical-align: middle;\n",
              "    }\n",
              "\n",
              "    .dataframe tbody tr th {\n",
              "        vertical-align: top;\n",
              "    }\n",
              "\n",
              "    .dataframe thead th {\n",
              "        text-align: right;\n",
              "    }\n",
              "</style>\n",
              "<table border=\"1\" class=\"dataframe\">\n",
              "  <thead>\n",
              "    <tr style=\"text-align: right;\">\n",
              "      <th></th>\n",
              "      <th>News</th>\n",
              "      <th>Class</th>\n",
              "      <th>length</th>\n",
              "    </tr>\n",
              "  </thead>\n",
              "  <tbody>\n",
              "    <tr>\n",
              "      <th>0</th>\n",
              "      <td>হ্যাঁ, আমি গোসল করি না, এটাই আমি' : গোসল না কর...</td>\n",
              "      <td>0</td>\n",
              "      <td>13</td>\n",
              "    </tr>\n",
              "    <tr>\n",
              "      <th>1</th>\n",
              "      <td>হোম টিউটর রেখে আপনার সন্তানকে যেভাবে উচ্চশিক্ষ...</td>\n",
              "      <td>0</td>\n",
              "      <td>9</td>\n",
              "    </tr>\n",
              "    <tr>\n",
              "      <th>2</th>\n",
              "      <td>হোটেলের রুমে তরুণীর সঙ্গে মারামারি করেছে বিখ্য...</td>\n",
              "      <td>0</td>\n",
              "      <td>14</td>\n",
              "    </tr>\n",
              "    <tr>\n",
              "      <th>3</th>\n",
              "      <td>হেলমেট পরেই বাইকভ্রমণের ফটোসেশন করার ৭টি অভিনব...</td>\n",
              "      <td>0</td>\n",
              "      <td>8</td>\n",
              "    </tr>\n",
              "    <tr>\n",
              "      <th>4</th>\n",
              "      <td>হুমায়ূন আহমেদের হিমু যদি মনোনয়নপত্র পূরণ করতেন</td>\n",
              "      <td>0</td>\n",
              "      <td>7</td>\n",
              "    </tr>\n",
              "    <tr>\n",
              "      <th>5</th>\n",
              "      <td>হুন্ডা চালালে কি সত্যিই বিচি নষ্ট হয় ?</td>\n",
              "      <td>0</td>\n",
              "      <td>8</td>\n",
              "    </tr>\n",
              "    <tr>\n",
              "      <th>6</th>\n",
              "      <td>হুড়োহুড়িতে বুড়ো-বুড়ি হওয়ার হুজুগে নিজেরই বিপদ...</td>\n",
              "      <td>0</td>\n",
              "      <td>13</td>\n",
              "    </tr>\n",
              "    <tr>\n",
              "      <th>7</th>\n",
              "      <td>হু হু! আমার এমপি হওয়ার সম্ভাবনা প্রবল</td>\n",
              "      <td>0</td>\n",
              "      <td>7</td>\n",
              "    </tr>\n",
              "    <tr>\n",
              "      <th>8</th>\n",
              "      <td>হিরো আলমের সাথে পাল্লা দিয়ে মনোনয়নপত্র কিনছে...</td>\n",
              "      <td>0</td>\n",
              "      <td>9</td>\n",
              "    </tr>\n",
              "    <tr>\n",
              "      <th>9</th>\n",
              "      <td>হিরো আলম, ডিপজল ও অন্যান্য অভিনেতারা সংসদে গেল...</td>\n",
              "      <td>0</td>\n",
              "      <td>12</td>\n",
              "    </tr>\n",
              "  </tbody>\n",
              "</table>\n",
              "</div>"
            ],
            "text/plain": [
              "                                                News  Class  length\n",
              "0  হ্যাঁ, আমি গোসল করি না, এটাই আমি' : গোসল না কর...      0      13\n",
              "1  হোম টিউটর রেখে আপনার সন্তানকে যেভাবে উচ্চশিক্ষ...      0       9\n",
              "2  হোটেলের রুমে তরুণীর সঙ্গে মারামারি করেছে বিখ্য...      0      14\n",
              "3  হেলমেট পরেই বাইকভ্রমণের ফটোসেশন করার ৭টি অভিনব...      0       8\n",
              "4     হুমায়ূন আহমেদের হিমু যদি মনোনয়নপত্র পূরণ করতেন      0       7\n",
              "5            হুন্ডা চালালে কি সত্যিই বিচি নষ্ট হয় ?      0       8\n",
              "6  হুড়োহুড়িতে বুড়ো-বুড়ি হওয়ার হুজুগে নিজেরই বিপদ...      0      13\n",
              "7              হু হু! আমার এমপি হওয়ার সম্ভাবনা প্রবল      0       7\n",
              "8  হিরো আলমের সাথে পাল্লা দিয়ে মনোনয়নপত্র কিনছে...      0       9\n",
              "9  হিরো আলম, ডিপজল ও অন্যান্য অভিনেতারা সংসদে গেল...      0      12"
            ]
          },
          "metadata": {
            "tags": []
          },
          "execution_count": 13
        }
      ]
    },
    {
      "cell_type": "code",
      "metadata": {
        "colab": {
          "base_uri": "https://localhost:8080/",
          "height": 667
        },
        "id": "HVW0Vi0LXcrb",
        "outputId": "461d1297-e492-48b5-cea8-edd64acd9a3b"
      },
      "source": [
        "df.hist(column='length', by='Class', bins=50,figsize=(20,10))"
      ],
      "execution_count": null,
      "outputs": [
        {
          "output_type": "execute_result",
          "data": {
            "text/plain": [
              "array([<matplotlib.axes._subplots.AxesSubplot object at 0x7fc722328910>,\n",
              "       <matplotlib.axes._subplots.AxesSubplot object at 0x7fc722343c10>],\n",
              "      dtype=object)"
            ]
          },
          "metadata": {
            "tags": []
          },
          "execution_count": 14
        },
        {
          "output_type": "display_data",
          "data": {
            "image/png": "[encoded data removed]",
            "text/plain": [
              "<Figure size 1440x720 with 2 Axes>"
            ]
          },
          "metadata": {
            "tags": [],
            "needs_background": "light"
          }
        }
      ]
    },
    {
      "cell_type": "code",
      "metadata": {
        "colab": {
          "base_uri": "https://localhost:8080/"
        },
        "id": "OZVvlhQ5Xltb",
        "outputId": "30489fef-4c36-4413-f318-c6162c486394"
      },
      "source": [
        "df.length.describe()"
      ],
      "execution_count": null,
      "outputs": [
        {
          "output_type": "execute_result",
          "data": {
            "text/plain": [
              "count    2348.000000\n",
              "mean        7.935264\n",
              "std         3.224861\n",
              "min         1.000000\n",
              "25%         6.000000\n",
              "50%         7.000000\n",
              "75%         9.000000\n",
              "max        20.000000\n",
              "Name: length, dtype: float64"
            ]
          },
          "metadata": {
            "tags": []
          },
          "execution_count": 15
        }
      ]
    },
    {
      "cell_type": "markdown",
      "metadata": {
        "id": "_M5oQ0lMYGO6"
      },
      "source": [
        "## Punctuation Remove(Feature Selection)"
      ]
    },
    {
      "cell_type": "code",
      "metadata": {
        "id": "XtIPLAXPYEWr"
      },
      "source": [
        "import string \n",
        "def remove_punc(s):\n",
        "    table = str.maketrans({key: None for key in string.punctuation})\n",
        "    return s.translate(table)"
      ],
      "execution_count": null,
      "outputs": []
    },
    {
      "cell_type": "code",
      "metadata": {
        "colab": {
          "base_uri": "https://localhost:8080/"
        },
        "id": "7PjoiHagYLrz",
        "outputId": "0ada08b2-beb0-47ad-bfe2-7912df3d68ed"
      },
      "source": [
        "x = df['News'].fillna(' ')\n",
        "y = df['Class']\n",
        "print(x.head())\n",
        "print(y.head())"
      ],
      "execution_count": null,
      "outputs": [
        {
          "output_type": "stream",
          "text": [
            "0    হ্যাঁ, আমি গোসল করি না, এটাই আমি' : গোসল না কর...\n",
            "1    হোম টিউটর রেখে আপনার সন্তানকে যেভাবে উচ্চশিক্ষ...\n",
            "2    হোটেলের রুমে তরুণীর সঙ্গে মারামারি করেছে বিখ্য...\n",
            "3    হেলমেট পরেই বাইকভ্রমণের ফটোসেশন করার ৭টি অভিনব...\n",
            "4       হুমায়ূন আহমেদের হিমু যদি মনোনয়নপত্র পূরণ করতেন\n",
            "Name: News, dtype: object\n",
            "0    0\n",
            "1    0\n",
            "2    0\n",
            "3    0\n",
            "4    0\n",
            "Name: Class, dtype: int64\n"
          ],
          "name": "stdout"
        }
      ]
    },
    {
      "cell_type": "code",
      "metadata": {
        "colab": {
          "base_uri": "https://localhost:8080/"
        },
        "id": "5S6eNelUYNmT",
        "outputId": "b2e1090c-97c5-4acd-97c7-b84d16e52b60"
      },
      "source": [
        "x = df['News'].apply(remove_punc)\n",
        "x.shape"
      ],
      "execution_count": null,
      "outputs": [
        {
          "output_type": "execute_result",
          "data": {
            "text/plain": [
              "(2348,)"
            ]
          },
          "metadata": {
            "tags": []
          },
          "execution_count": 18
        }
      ]
    },
    {
      "cell_type": "markdown",
      "metadata": {
        "id": "YLNiHkqXYbRK"
      },
      "source": [
        "## Contractions"
      ]
    },
    {
      "cell_type": "code",
      "metadata": {
        "id": "nge9gDpEYX0D"
      },
      "source": [
        "contractions = { \n",
        "\"বি.দ্র \": \"বিশেষ দ্রষ্টব্য\",\n",
        "\"ড.\": \"ডক্টর\",\n",
        "\"ডা.\": \"ডাক্তার\",\n",
        "\"ইঞ্জি:\": \"ইঞ্জিনিয়ার\",\n",
        "\"রেজি:\": \"রেজিস্ট্রেশন\",\n",
        "\"মি.\": \"মিস্টার\",\n",
        "\"মু.\": \"মুহাম্মদ\",\n",
        "\"মো.\": \"মোহাম্মদ\",\n",
        "}"
      ],
      "execution_count": null,
      "outputs": []
    },
    {
      "cell_type": "markdown",
      "metadata": {
        "id": "ZaZJQAwLYiea"
      },
      "source": [
        "## Process Sentance"
      ]
    },
    {
      "cell_type": "code",
      "metadata": {
        "id": "9JNkK9ZuYfTi"
      },
      "source": [
        "import re\n",
        "import string\n",
        "from collections import Counter\n",
        "vocab = Counter()\n",
        "def clean_text(x,remove_stopwords = False):\n",
        "    if True:\n",
        "        new_text = []\n",
        "        for word in x:\n",
        "            if word in contractions:\n",
        "                new_text.append(contractions[word])\n",
        "            else:\n",
        "                new_text.append(word)\n",
        "        x = \" \".join(new_text)\n",
        "    # Format words and remove unwanted characters\n",
        "    whitespace = re.compile(u\"[\\s\\u0020\\u00a0\\u1680\\u180e\\u202f\\u205f\\u3000\\u2000-\\u200a]+\", re.UNICODE)\n",
        "    bangla_digits = u\"[\\u09E6\\u09E7\\u09E8\\u09E9\\u09EA\\u09EB\\u09EC\\u09ED\\u09EE\\u09EF]+\"\n",
        "    english_chars = u\"[a-zA-Z0-9]\"\n",
        "    punc = u\"[(),$%^&*+={}\\[\\]:\\\"|\\'\\~`<>/,¦!?½£¶¼©⅐⅑⅒⅓⅔⅕⅖⅗⅘⅙⅚⅛⅜⅝⅞⅟↉¤¿º;-]+\"\n",
        "    bangla_fullstop = u\"\\u0964\"     #bangla fullstop(dari)\n",
        "    punctSeq   = u\"['\\\"“”‘’]+|[.?!,…]+|[:;]+\"\n",
        "    \n",
        "    x = re.sub(bangla_digits, \" \", x)\n",
        "    x = re.sub(punc, \" \", x)\n",
        "    x = re.sub(english_chars, \" \", x)\n",
        "    x = re.sub(bangla_fullstop, \" \", x)\n",
        "    x = re.sub(punctSeq, \" \", x)\n",
        "    x = whitespace.sub(\" \", x).strip()\n",
        "    \n",
        "    x = re.sub(r'https?:\\/\\/.*[\\r\\n]*', '', x, flags=re.MULTILINE)\n",
        "    x = re.sub(r'\\<a href', ' ', x)\n",
        "    x = re.sub(r'&amp;‘:‘ ’', '', x) \n",
        "    x = re.sub(r'[_\"\\-;%()|+&=*%.,!?:#$@\\[\\]/]। ,', ' ', x)\n",
        "    x = re.sub(r'<br />', ' ', x)\n",
        "    x = re.sub(r'\\'', ' ', x)\n",
        "    x = re.sub(r\"[\\@$#%~+-\\.\\'।\\\"]\",\" \",x)\n",
        "    x = re.sub(r\"(?m)^\\s+\", \"\", x)\n",
        "    x = re.sub(\"[()]\",\"\",x)\n",
        "    x = re.sub(\"[‘’]\",\"\",x)\n",
        "    x = re.sub(\"[!]\",\"\",x)\n",
        "    x = re.sub(\"[/]\",\"\",x)\n",
        "    x = re.sub(\"[:]\",\"\",x)\n",
        "    x = re.sub('\\ |\\?|\\.|\\!|\\/|\\;|\\:', ' ',x)\n",
        "    x = x.strip(\"/\")\n",
        "    \n",
        "    if remove_stopwords:\n",
        "        k = []\n",
        "        with open('gdrive/My Drive/Colab Notebooks/Banglastopword.txt', 'r',encoding=\"utf-8\") as f:\n",
        "            for word in f:\n",
        "                word = word.split()\n",
        "                k.append(word[0])\n",
        "            x = [t for t in x if t not in k]\n",
        "            x = \"\".join(x)\n",
        "   \n",
        "\n",
        "    return x"
      ],
      "execution_count": null,
      "outputs": []
    },
    {
      "cell_type": "code",
      "metadata": {
        "id": "xgw1Cam4Ys96"
      },
      "source": [
        "import matplotlib.pyplot as plt\n",
        "import seaborn as sns\n",
        "import nltk\n",
        "from nltk.corpus import stopwords\n",
        "import string\n",
        "import math\n",
        "from sklearn.feature_extraction.text import CountVectorizer\n",
        "from sklearn.model_selection import train_test_split, cross_val_score\n",
        "from sklearn.metrics import classification_report\n",
        "from sklearn.metrics import confusion_matrix, accuracy_score, roc_auc_score, roc_curve\n",
        "from sklearn.model_selection import GridSearchCV\n",
        "from sklearn import metrics\n",
        "%matplotlib inline"
      ],
      "execution_count": null,
      "outputs": []
    },
    {
      "cell_type": "code",
      "metadata": {
        "id": "eDBD0fLVYvtb"
      },
      "source": [
        "vocab = CountVectorizer(analyzer=clean_text,encoding='utf-8').fit(x)"
      ],
      "execution_count": null,
      "outputs": []
    },
    {
      "cell_type": "code",
      "metadata": {
        "colab": {
          "base_uri": "https://localhost:8080/"
        },
        "id": "jefhTbrnYyAa",
        "outputId": "643df50a-c680-4082-9733-f73e951e31cb"
      },
      "source": [
        "\n",
        "print(len(vocab.vocabulary_))"
      ],
      "execution_count": null,
      "outputs": [
        {
          "output_type": "stream",
          "text": [
            "67\n"
          ],
          "name": "stdout"
        }
      ]
    },
    {
      "cell_type": "code",
      "metadata": {
        "colab": {
          "base_uri": "https://localhost:8080/"
        },
        "id": "isTZkw04Yzia",
        "outputId": "68479552-210f-4d6d-c683-7687f2e95c05"
      },
      "source": [
        "r0 = x[0]\n",
        "print(r0)"
      ],
      "execution_count": null,
      "outputs": [
        {
          "output_type": "stream",
          "text": [
            "হ্যাঁ আমি গোসল করি না এটাই আমি  গোসল না করার মোটিভেশনাল স্পিচ\n"
          ],
          "name": "stdout"
        }
      ]
    },
    {
      "cell_type": "code",
      "metadata": {
        "colab": {
          "base_uri": "https://localhost:8080/"
        },
        "id": "ktWd1TW9Y2Wq",
        "outputId": "4ff1786c-87dc-42e2-cee3-38e5f3f392b7"
      },
      "source": [
        "vocab0 = vocab.transform([r0])\n",
        "print(vocab0)"
      ],
      "execution_count": null,
      "outputs": [
        {
          "output_type": "stream",
          "text": [
            "  (0, 0)\t48\n",
            "  (0, 1)\t1\n",
            "  (0, 5)\t2\n",
            "  (0, 6)\t1\n",
            "  (0, 11)\t1\n",
            "  (0, 15)\t2\n",
            "  (0, 17)\t2\n",
            "  (0, 20)\t1\n",
            "  (0, 25)\t2\n",
            "  (0, 34)\t3\n",
            "  (0, 35)\t1\n",
            "  (0, 38)\t1\n",
            "  (0, 39)\t3\n",
            "  (0, 40)\t1\n",
            "  (0, 41)\t3\n",
            "  (0, 42)\t3\n",
            "  (0, 43)\t1\n",
            "  (0, 45)\t3\n",
            "  (0, 46)\t1\n",
            "  (0, 48)\t6\n",
            "  (0, 49)\t5\n",
            "  (0, 54)\t1\n",
            "  (0, 56)\t3\n",
            "  (0, 58)\t2\n"
          ],
          "name": "stdout"
        }
      ]
    },
    {
      "cell_type": "code",
      "metadata": {
        "colab": {
          "base_uri": "https://localhost:8080/"
        },
        "id": "PGMGxx7PY40z",
        "outputId": "03b903ca-c19f-4c7a-a5f4-30e96ba94fc1"
      },
      "source": [
        "print(vocab.get_feature_names()[50])\n",
        "print(vocab.get_feature_names()[31])"
      ],
      "execution_count": null,
      "outputs": [
        {
          "output_type": "stream",
          "text": [
            "ী\n",
            "থ\n"
          ],
          "name": "stdout"
        }
      ]
    },
    {
      "cell_type": "code",
      "metadata": {
        "id": "D6eSK6pLY7UC"
      },
      "source": [
        "x = vocab.transform(x)"
      ],
      "execution_count": null,
      "outputs": []
    },
    {
      "cell_type": "code",
      "metadata": {
        "colab": {
          "base_uri": "https://localhost:8080/"
        },
        "id": "c5d5vZ8DY9Ly",
        "outputId": "435d3f1d-a29a-40cd-b528-58b1c6aae017"
      },
      "source": [
        "print(\"Shape of the sparse matrix: \", x.shape)\n",
        "print(\"Non-Zero occurences: \",x.nnz)\n",
        "density = (x.nnz/(x.shape[0]*x.shape[1]))*100\n",
        "print(\"Density of the matrix = \",density)"
      ],
      "execution_count": null,
      "outputs": [
        {
          "output_type": "stream",
          "text": [
            "Shape of the sparse matrix:  (2348, 67)\n",
            "Non-Zero occurences:  50490\n",
            "Density of the matrix =  32.09463754481426\n"
          ],
          "name": "stdout"
        }
      ]
    },
    {
      "cell_type": "code",
      "metadata": {
        "id": "0osaQvbgZA_j"
      },
      "source": [
        "x_train,x_test,y_train,y_test = train_test_split(x,y,test_size=0.20,random_state=1)"
      ],
      "execution_count": null,
      "outputs": []
    },
    {
      "cell_type": "markdown",
      "metadata": {
        "id": "Tk_HbiCsZJJs"
      },
      "source": [
        "## Naive Bayes"
      ]
    },
    {
      "cell_type": "code",
      "metadata": {
        "colab": {
          "base_uri": "https://localhost:8080/"
        },
        "id": "k6kmePafZE5y",
        "outputId": "c3af953d-cca6-41c0-bc5c-c945b40bdf60"
      },
      "source": [
        "from sklearn.naive_bayes import MultinomialNB\n",
        "mnb = MultinomialNB()\n",
        "mnb.fit(x_train,y_train)\n",
        "predmnb = mnb.predict(x_test)\n",
        "print(\"Confusion Matrix for Multinomial Naive Bayes:\")\n",
        "print(confusion_matrix(y_test,predmnb))\n",
        "print(\"Score:\",round(accuracy_score(y_test,predmnb)*100,2))\n",
        "print(\"Classification Report:\",classification_report(y_test,predmnb))\n"
      ],
      "execution_count": null,
      "outputs": [
        {
          "output_type": "stream",
          "text": [
            "Confusion Matrix for Multinomial Naive Bayes:\n",
            "[[170  57]\n",
            " [ 71 172]]\n",
            "Score: 72.77\n",
            "Classification Report:               precision    recall  f1-score   support\n",
            "\n",
            "           0       0.71      0.75      0.73       227\n",
            "           1       0.75      0.71      0.73       243\n",
            "\n",
            "    accuracy                           0.73       470\n",
            "   macro avg       0.73      0.73      0.73       470\n",
            "weighted avg       0.73      0.73      0.73       470\n",
            "\n"
          ],
          "name": "stdout"
        }
      ]
    },
    {
      "cell_type": "code",
      "metadata": {
        "colab": {
          "base_uri": "https://localhost:8080/"
        },
        "id": "bQbv6HCkZG0a",
        "outputId": "5dc46542-387a-473f-e526-65707f2b7c9d"
      },
      "source": [
        "acc1=metrics.accuracy_score(y_test, predmnb)\n",
        "print(\"Accuracy:\",acc1*100,\"%\")\n",
        "print(\"Cross Validation Score:\",(cross_val_score(mnb, x, y, cv=10).mean())*100,\"%\")"
      ],
      "execution_count": null,
      "outputs": [
        {
          "output_type": "stream",
          "text": [
            "Accuracy: 72.76595744680851 %\n",
            "Cross Validation Score: 70.27241316603019 %\n"
          ],
          "name": "stdout"
        }
      ]
    },
    {
      "cell_type": "code",
      "metadata": {
        "colab": {
          "base_uri": "https://localhost:8080/"
        },
        "id": "qz8uocoSiSOz",
        "outputId": "c8777128-a0b8-4cd5-9fa8-616bc74c4472"
      },
      "source": [
        "from sklearn.naive_bayes import GaussianNB\n",
        "mnb = GaussianNB()\n",
        "mnb.fit(x_train.todense(),y_train)\n",
        "predmnb = mnb.predict(x_test.todense())\n",
        "print(\"Confusion Matrix for Multinomial Naive Bayes:\")\n",
        "print(confusion_matrix(y_test,predmnb))\n",
        "print(\"Score:\",round(accuracy_score(y_test,predmnb)*100,2))\n",
        "print(\"Classification Report:\",classification_report(y_test,predmnb))"
      ],
      "execution_count": null,
      "outputs": [
        {
          "output_type": "stream",
          "text": [
            "Confusion Matrix for Multinomial Naive Bayes:\n",
            "[[138  89]\n",
            " [ 23 220]]\n",
            "Score: 76.17\n",
            "Classification Report:               precision    recall  f1-score   support\n",
            "\n",
            "           0       0.86      0.61      0.71       227\n",
            "           1       0.71      0.91      0.80       243\n",
            "\n",
            "    accuracy                           0.76       470\n",
            "   macro avg       0.78      0.76      0.75       470\n",
            "weighted avg       0.78      0.76      0.76       470\n",
            "\n"
          ],
          "name": "stdout"
        }
      ]
    },
    {
      "cell_type": "code",
      "metadata": {
        "id": "YWUPj1Wz-8cI",
        "colab": {
          "base_uri": "https://localhost:8080/"
        },
        "outputId": "49f3f149-6251-407e-a601-81b8740501e7"
      },
      "source": [
        "acc1=metrics.accuracy_score(y_test, predmnb)\n",
        "print(\"Accuracy:\",acc1*100,\"%\")\n",
        "print(\"Cross Validation Score:\",(cross_val_score(mnb, x, y, cv=10).mean())*100,\"%\")"
      ],
      "execution_count": null,
      "outputs": [
        {
          "output_type": "stream",
          "text": [
            "Accuracy: 76.17021276595744 %\n",
            "Cross Validation Score: nan %\n"
          ],
          "name": "stdout"
        },
        {
          "output_type": "stream",
          "text": [
            "/usr/local/lib/python3.7/dist-packages/sklearn/model_selection/_validation.py:536: FitFailedWarning: Estimator fit failed. The score on this train-test partition for these parameters will be set to nan. Details: \n",
            "TypeError: A sparse matrix was passed, but dense data is required. Use X.toarray() to convert to a dense numpy array.\n",
            "\n",
            "  FitFailedWarning)\n"
          ],
          "name": "stderr"
        }
      ]
    },
    {
      "cell_type": "markdown",
      "metadata": {
        "id": "dfp5QfF0ZcZy"
      },
      "source": [
        "## Random Forest"
      ]
    },
    {
      "cell_type": "code",
      "metadata": {
        "colab": {
          "base_uri": "https://localhost:8080/"
        },
        "id": "Fr_kXUy6ZQZZ",
        "outputId": "342432a8-fa05-4bb8-d980-4543fed59f19"
      },
      "source": [
        "from sklearn.ensemble import RandomForestClassifier\n",
        "rmfr = RandomForestClassifier()\n",
        "rmfr.fit(x_train,y_train)\n",
        "predrmfr = rmfr.predict(x_test)\n",
        "print(\"Confusion Matrix for Random Forest Classifier:\")\n",
        "print(confusion_matrix(y_test,predrmfr))\n",
        "print(\"Score:\",round(accuracy_score(y_test,predrmfr)*100,2))\n",
        "print(\"Classification Report:\",classification_report(y_test,predrmfr))"
      ],
      "execution_count": null,
      "outputs": [
        {
          "output_type": "stream",
          "text": [
            "Confusion Matrix for Random Forest Classifier:\n",
            "[[181  46]\n",
            " [ 38 205]]\n",
            "Score: 82.13\n",
            "Classification Report:               precision    recall  f1-score   support\n",
            "\n",
            "           0       0.83      0.80      0.81       227\n",
            "           1       0.82      0.84      0.83       243\n",
            "\n",
            "    accuracy                           0.82       470\n",
            "   macro avg       0.82      0.82      0.82       470\n",
            "weighted avg       0.82      0.82      0.82       470\n",
            "\n"
          ],
          "name": "stdout"
        }
      ]
    },
    {
      "cell_type": "code",
      "metadata": {
        "colab": {
          "base_uri": "https://localhost:8080/"
        },
        "id": "tQFS4J_7ZXc6",
        "outputId": "416810c4-7e6f-4d16-c729-5d13afcfa687"
      },
      "source": [
        "acc2=metrics.accuracy_score(y_test,predrmfr)\n",
        "print(\"Accuracy:\",acc2*100,\"%\")\n",
        "print(\"Cross Validation Score:\",(cross_val_score(rmfr, x, y, cv=10).mean())*100,\"%\")"
      ],
      "execution_count": null,
      "outputs": [
        {
          "output_type": "stream",
          "text": [
            "Accuracy: 82.12765957446808 %\n",
            "Cross Validation Score: 79.59883615202764 %\n"
          ],
          "name": "stdout"
        }
      ]
    },
    {
      "cell_type": "markdown",
      "metadata": {
        "id": "yjUsg5JjZpRq"
      },
      "source": [
        "## Decision Tree"
      ]
    },
    {
      "cell_type": "code",
      "metadata": {
        "colab": {
          "base_uri": "https://localhost:8080/"
        },
        "id": "ZwUfVqiuZbXi",
        "outputId": "b3e1067c-895f-48bd-e99d-25cb3794b337"
      },
      "source": [
        "from sklearn.tree import DecisionTreeClassifier\n",
        "dt = DecisionTreeClassifier()\n",
        "dt.fit(x_train,y_train)\n",
        "preddt = dt.predict(x_test)\n",
        "print(\"Confusion Matrix for Decision Tree:\")\n",
        "print(confusion_matrix(y_test,preddt))\n",
        "print(\"Score:\",round(accuracy_score(y_test,preddt)*100,2))\n",
        "print(\"Classification Report:\",classification_report(y_test,preddt))"
      ],
      "execution_count": null,
      "outputs": [
        {
          "output_type": "stream",
          "text": [
            "Confusion Matrix for Decision Tree:\n",
            "[[176  51]\n",
            " [ 75 168]]\n",
            "Score: 73.19\n",
            "Classification Report:               precision    recall  f1-score   support\n",
            "\n",
            "           0       0.70      0.78      0.74       227\n",
            "           1       0.77      0.69      0.73       243\n",
            "\n",
            "    accuracy                           0.73       470\n",
            "   macro avg       0.73      0.73      0.73       470\n",
            "weighted avg       0.74      0.73      0.73       470\n",
            "\n"
          ],
          "name": "stdout"
        }
      ]
    },
    {
      "cell_type": "code",
      "metadata": {
        "colab": {
          "base_uri": "https://localhost:8080/"
        },
        "id": "1kTVwDDaZizc",
        "outputId": "5bd38d17-a9d6-41ce-9711-4e915f2d1ebc"
      },
      "source": [
        "acc3=metrics.accuracy_score(y_test,preddt)\n",
        "print(\"Accuracy:\",acc3*100,\"%\")\n",
        "print(\"Cross Validation Score:\",(cross_val_score(dt, x, y, cv=10).mean())*100,\"%\")"
      ],
      "execution_count": null,
      "outputs": [
        {
          "output_type": "stream",
          "text": [
            "Accuracy: 73.19148936170212 %\n",
            "Cross Validation Score: 72.23149663575195 %\n"
          ],
          "name": "stdout"
        }
      ]
    },
    {
      "cell_type": "markdown",
      "metadata": {
        "id": "Ef2wqcBTZvpS"
      },
      "source": [
        "## SVC"
      ]
    },
    {
      "cell_type": "code",
      "metadata": {
        "colab": {
          "base_uri": "https://localhost:8080/"
        },
        "id": "rttsX4C8Zn0K",
        "outputId": "0eef8dd7-c709-4eb4-bc10-e1d9d022ec86"
      },
      "source": [
        "from sklearn.svm import SVC\n",
        "svm = SVC(random_state=101)\n",
        "svm.fit(x_train,y_train)\n",
        "predsvm = svm.predict(x_test)\n",
        "print(\"Confusion Matrix for Support Vector Machines:\")\n",
        "print(confusion_matrix(y_test,predsvm))\n",
        "print(\"Score:\",round(accuracy_score(y_test,predsvm)*100,2))\n",
        "print(\"Classification Report:\",classification_report(y_test,predsvm))"
      ],
      "execution_count": null,
      "outputs": [
        {
          "output_type": "stream",
          "text": [
            "Confusion Matrix for Support Vector Machines:\n",
            "[[166  61]\n",
            " [ 41 202]]\n",
            "Score: 78.3\n",
            "Classification Report:               precision    recall  f1-score   support\n",
            "\n",
            "           0       0.80      0.73      0.76       227\n",
            "           1       0.77      0.83      0.80       243\n",
            "\n",
            "    accuracy                           0.78       470\n",
            "   macro avg       0.78      0.78      0.78       470\n",
            "weighted avg       0.78      0.78      0.78       470\n",
            "\n"
          ],
          "name": "stdout"
        }
      ]
    },
    {
      "cell_type": "code",
      "metadata": {
        "colab": {
          "base_uri": "https://localhost:8080/"
        },
        "id": "_vliB6j3ZzGb",
        "outputId": "9afc65cd-45a4-40d9-af46-4fe3f08f6667"
      },
      "source": [
        "acc4=metrics.accuracy_score(y_test,predsvm)\n",
        "print(\"Accuracy:\",acc4*100,\"%\")\n",
        "print(\"Cross Validation Score:\",(cross_val_score(svm, x, y, cv=10).mean())*100,\"%\")"
      ],
      "execution_count": null,
      "outputs": [
        {
          "output_type": "stream",
          "text": [
            "Accuracy: 78.29787234042553 %\n",
            "Cross Validation Score: 75.7239498090562 %\n"
          ],
          "name": "stdout"
        }
      ]
    },
    {
      "cell_type": "markdown",
      "metadata": {
        "id": "I9U3t3_VZ-Ja"
      },
      "source": [
        "## KNN"
      ]
    },
    {
      "cell_type": "code",
      "metadata": {
        "colab": {
          "base_uri": "https://localhost:8080/"
        },
        "id": "LIG-B-CcZ5Hr",
        "outputId": "8228d929-f7eb-422b-867e-5d69d38bfa7f"
      },
      "source": [
        "from sklearn.neighbors import KNeighborsClassifier\n",
        "knn = KNeighborsClassifier(n_neighbors=3)\n",
        "knn.fit(x_train,y_train)\n",
        "predknn = knn.predict(x_test)\n",
        "print(\"Confusion Matrix for K Neighbors Classifier:\")\n",
        "print(confusion_matrix(y_test,predknn))\n",
        "print(\"Score: \",round(accuracy_score(y_test,predknn)*100,2))\n",
        "print(\"Classification Report:\")\n",
        "print(classification_report(y_test,predknn))"
      ],
      "execution_count": null,
      "outputs": [
        {
          "output_type": "stream",
          "text": [
            "Confusion Matrix for K Neighbors Classifier:\n",
            "[[161  66]\n",
            " [ 71 172]]\n",
            "Score:  70.85\n",
            "Classification Report:\n",
            "              precision    recall  f1-score   support\n",
            "\n",
            "           0       0.69      0.71      0.70       227\n",
            "           1       0.72      0.71      0.72       243\n",
            "\n",
            "    accuracy                           0.71       470\n",
            "   macro avg       0.71      0.71      0.71       470\n",
            "weighted avg       0.71      0.71      0.71       470\n",
            "\n"
          ],
          "name": "stdout"
        }
      ]
    },
    {
      "cell_type": "code",
      "metadata": {
        "colab": {
          "base_uri": "https://localhost:8080/"
        },
        "id": "fnLyibN_aBoC",
        "outputId": "579997ff-927d-4818-f53b-a8c34ba8df44"
      },
      "source": [
        "acc5=metrics.accuracy_score(y_test,predknn)\n",
        "print(\"Accuracy:\",acc5*100,\"%\")\n",
        "print(\"Cross Validation Score:\",(cross_val_score(knn, x, y, cv=10).mean())*100,\"%\")"
      ],
      "execution_count": null,
      "outputs": [
        {
          "output_type": "stream",
          "text": [
            "Accuracy: 70.85106382978724 %\n",
            "Cross Validation Score: 70.91198399709037 %\n"
          ],
          "name": "stdout"
        }
      ]
    },
    {
      "cell_type": "code",
      "metadata": {
        "colab": {
          "base_uri": "https://localhost:8080/"
        },
        "id": "4-f1wcBN8PLL",
        "outputId": "76526c6c-e01c-4a88-93b2-6e313920ada1"
      },
      "source": [
        "from xgboost import XGBClassifier\n",
        "xgb = XGBClassifier()\n",
        "xgb.fit(x_train,y_train)\n",
        "predxgb = xgb.predict(x_test)\n",
        "print(\"Confusion Matrix for xgboost Classifier:\")\n",
        "print(confusion_matrix(y_test,predxgb))\n",
        "print(\"Score: \",round(accuracy_score(y_test,predxgb)*100,2))\n",
        "print(\"Classification Report:\")\n",
        "print(classification_report(y_test,predxgb))"
      ],
      "execution_count": null,
      "outputs": [
        {
          "output_type": "stream",
          "text": [
            "Confusion Matrix for xgboost Classifier:\n",
            "[[175  52]\n",
            " [ 30 213]]\n",
            "Score:  82.55\n",
            "Classification Report:\n",
            "              precision    recall  f1-score   support\n",
            "\n",
            "           0       0.85      0.77      0.81       227\n",
            "           1       0.80      0.88      0.84       243\n",
            "\n",
            "    accuracy                           0.83       470\n",
            "   macro avg       0.83      0.82      0.82       470\n",
            "weighted avg       0.83      0.83      0.82       470\n",
            "\n"
          ],
          "name": "stdout"
        }
      ]
    },
    {
      "cell_type": "code",
      "metadata": {
        "colab": {
          "base_uri": "https://localhost:8080/"
        },
        "id": "3p3rPD1h8Rpp",
        "outputId": "887dc407-6182-49d9-a806-f5433b8ae4bc"
      },
      "source": [
        "acc6=metrics.accuracy_score(y_test,predxgb)\n",
        "print(\"Accuracy:\",acc6*100,\"%\")\n",
        "cross_val_score(xgb, x, y, cv=10)\n",
        "xgb_cross_val=cross_val_score(xgb, x, y, cv=10).mean()\n",
        "xgb_cross_val"
      ],
      "execution_count": null,
      "outputs": [
        {
          "output_type": "stream",
          "text": [
            "Accuracy: 82.5531914893617 %\n"
          ],
          "name": "stdout"
        },
        {
          "output_type": "execute_result",
          "data": {
            "text/plain": [
              "0.795982905982906"
            ]
          },
          "metadata": {
            "tags": []
          },
          "execution_count": 42
        }
      ]
    },
    {
      "cell_type": "markdown",
      "metadata": {
        "id": "swpp8EjjaIAC"
      },
      "source": [
        "## Prediction Checking"
      ]
    },
    {
      "cell_type": "code",
      "metadata": {
        "id": "2YeYE3EaaFax"
      },
      "source": [
        "headline=input()\n",
        "prt=vocab.transform([headline])"
      ],
      "execution_count": null,
      "outputs": []
    },
    {
      "cell_type": "code",
      "metadata": {
        "colab": {
          "base_uri": "https://localhost:8080/"
        },
        "id": "MoSRePcTaRaS",
        "outputId": "0b4847cc-5d33-4276-b7f7-b91c94614685"
      },
      "source": [
        "m1=svm.predict(prt)\n",
        "print(\"Predicted Rating:\",m1)\n",
        "if m1==0:\n",
        "  print(\"False News\")\n",
        "else:\n",
        "  print(\"True News\")"
      ],
      "execution_count": null,
      "outputs": [
        {
          "output_type": "stream",
          "text": [
            "Predicted Rating: [0]\n",
            "False News\n"
          ],
          "name": "stdout"
        }
      ]
    },
    {
      "cell_type": "code",
      "metadata": {
        "colab": {
          "base_uri": "https://localhost:8080/"
        },
        "id": "ebhvoLwjahWZ",
        "outputId": "542d9470-5800-40f4-b33d-f2d388e9d940"
      },
      "source": [
        "m2=knn.predict(prt)\n",
        "print(\"Predicted Rating:\",m2)\n",
        "if m2==0:\n",
        "  print(\"False News\")\n",
        "else: \n",
        "  print(\"True News\")"
      ],
      "execution_count": null,
      "outputs": [
        {
          "output_type": "stream",
          "text": [
            "Predicted Rating: [0]\n",
            "False News\n"
          ],
          "name": "stdout"
        }
      ]
    },
    {
      "cell_type": "code",
      "metadata": {
        "colab": {
          "base_uri": "https://localhost:8080/"
        },
        "id": "KOwoJ1ifa3Mq",
        "outputId": "e5be799b-412b-4145-95b4-707d6eb69e03"
      },
      "source": [
        "m3=dt.predict(prt)\n",
        "print(\"Predicted Rating:\",m3)\n",
        "if m3==0:\n",
        "  print(\"False News\")\n",
        "else: \n",
        "  print(\"True News\")"
      ],
      "execution_count": null,
      "outputs": [
        {
          "output_type": "stream",
          "text": [
            "Predicted Rating: [0]\n",
            "False News\n"
          ],
          "name": "stdout"
        }
      ]
    },
    {
      "cell_type": "code",
      "metadata": {
        "colab": {
          "base_uri": "https://localhost:8080/"
        },
        "id": "9rmzEvCwbAey",
        "outputId": "5c3f65cf-251c-4b3b-9b57-950de0630efb"
      },
      "source": [
        "m4=mnb.predict(prt)\n",
        "print(\"Predicted Rating:\",m4)\n",
        "if m4==0:\n",
        "  print(\"False News\")\n",
        "else: \n",
        "  print(\"True News\")"
      ],
      "execution_count": null,
      "outputs": [
        {
          "output_type": "stream",
          "text": [
            "Predicted Rating: [0]\n",
            "False News\n"
          ],
          "name": "stdout"
        }
      ]
    },
    {
      "cell_type": "code",
      "metadata": {
        "colab": {
          "base_uri": "https://localhost:8080/"
        },
        "id": "oUjENBCqbE3S",
        "outputId": "ca4e303c-5aed-47cc-a68c-f2e92b026b5f"
      },
      "source": [
        "m5=rmfr.predict(prt)\n",
        "print(\"Predicted Rating:\",m5)\n",
        "if m5==0:\n",
        "  print(\"False News\")\n",
        "else: \n",
        "  print(\"True News\")"
      ],
      "execution_count": null,
      "outputs": [
        {
          "output_type": "stream",
          "text": [
            "Predicted Rating: [0]\n",
            "False News\n"
          ],
          "name": "stdout"
        }
      ]
    },
    {
      "cell_type": "markdown",
      "metadata": {
        "id": "XyryNwc_bPmK"
      },
      "source": [
        "## Data Representation"
      ]
    },
    {
      "cell_type": "code",
      "metadata": {
        "colab": {
          "base_uri": "https://localhost:8080/",
          "height": 452
        },
        "id": "4qvoYBdpbKNS",
        "outputId": "9fa91e60-18bc-44b4-f72f-57258203a324"
      },
      "source": [
        "import matplotlib.pyplot as plt; plt.rcdefaults()\n",
        "import numpy as np\n",
        "import matplotlib.pyplot as plt\n",
        "\n",
        "objects = ('NB','RF','DT','SVM','KNN','XGB')\n",
        "y_pos = np.arange(len(objects))\n",
        "performance = [acc1,acc2,acc3,acc4,acc5,acc6]\n",
        "\n",
        "plt.bar(y_pos, performance, align='center', alpha=0.5)\n",
        "plt.xticks(y_pos, objects)\n",
        "plt.ylabel('Score')\n",
        "plt.title('Best Accuracy')\n",
        "\n",
        "plt.show()"
      ],
      "execution_count": null,
      "outputs": [
        {
          "output_type": "display_data",
          "data": {
            "image/png": "[encoded data removed]",
            "text/plain": [
              "<Figure size 640x480 with 1 Axes>"
            ]
          },
          "metadata": {
            "tags": []
          }
        }
      ]
    },
    {
      "cell_type": "code",
      "metadata": {
        "id": "ihGVEUehbW4q"
      },
      "source": [
        ""
      ],
      "execution_count": null,
      "outputs": []
    }
  ]
}